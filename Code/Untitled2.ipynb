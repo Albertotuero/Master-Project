{
 "cells": [
  {
   "cell_type": "code",
   "execution_count": 1,
   "metadata": {
    "collapsed": false
   },
   "outputs": [
    {
     "name": "stdout",
     "output_type": "stream",
     "text": [
      "Ejecutando año: 1976\n",
      "Ejecutando año: 1977\n",
      "Ejecutando año: 1978\n",
      "Ejecutando año: 1979\n",
      "Ejecutando año: 1980\n",
      "Ejecutando año: 1981\n",
      "Ejecutando año: 1982\n",
      "Ejecutando año: 1983\n",
      "Ejecutando año: 1984\n",
      "Ejecutando año: 1985\n",
      "Ejecutando año: 1986\n",
      "Ejecutando año: 1987\n",
      "Ejecutando año: 1988\n",
      "Ejecutando año: 1989\n",
      "Ejecutando año: 1990\n",
      "Ejecutando año: 1991\n",
      "Ejecutando año: 1992\n",
      "Ejecutando año: 1993\n",
      "Ejecutando año: 1994\n",
      "Ejecutando año: 1995\n",
      "Ejecutando año: 1996\n",
      "Ejecutando año: 1997\n",
      "Ejecutando año: 1998\n",
      "Ejecutando año: 1999\n",
      "Ejecutando año: 2000\n",
      "Ejecutando año: 2001\n",
      "Ejecutando año: 2002\n",
      "Ejecutando año: 2003\n",
      "Ejecutando año: 2004\n",
      "Ejecutando año: 2005\n",
      "Ejecutando año: 2006\n",
      "Ejecutando año: 2007\n",
      "Ejecutando año: 2008\n",
      "Ejecutando año: 2009\n",
      "Ejecutando año: 2010\n",
      "Ejecutando año: 2011\n",
      "Ejecutando año: 2012\n",
      "Ejecutando año: 2013\n",
      "Ejecutando año: 2014\n",
      "Ejecutando año: 2015\n"
     ]
    }
   ],
   "source": [
    "import numpy as np\n",
    "import pandas as pd\n",
    "from pandas import Series,DataFrame\n",
    "\n",
    "df_final = DataFrame()\n",
    "for year in range(1976, 2016):\n",
    "    print(\"Ejecutando año: \" + str(year))\n",
    "    # Lectura del archivo de datos\n",
    "    df = pd.read_csv('D:/master/Master-in-Data-Science/Proyecto/Datos/Temperatura/'+str(year)+'.csv.gz',header=None,\n",
    "                    names=['STATION','DATE','MEASURE','VALUE','M-FLAG','Q-FLAG','S-FLAG','TIME'],\n",
    "                    dtype={'DATE':str }\n",
    "                    )\n",
    "    \n",
    "    # Nos quedamos con las columnas que nos interesan\n",
    "    df=df[[\"STATION\",\"DATE\",\"MEASURE\",\"VALUE\"]]\n",
    "    \n",
    "    # Se eliminan las columnas que tienen valores missing    \n",
    "    stations = [\"AQC00914000\",\"AQC00914005\",\"AQC00914021\",\"AQC00914060\",\"AQC00914135\",\"AQC00914138\",\n",
    "                \"AQC00914145\",\"AQC00914149\",\"AQC00914188\",\"AQC00914248\",\"AQC00914397\",\"AQC00914424\",\n",
    "                \"AQC00914594\",\"AQC00914650\",\"AQC00914822\",\"AQC00914869\",\"AQC00914873\",\"AQC00914902\",\n",
    "                \"AQC00914912\",\"AQW00061705\"]\n",
    "    \n",
    "    df = df[df[\"STATION\"].map(lambda x: x in stations)]\n",
    "    df = df[df[\"MEASURE\"].map(lambda x: x in [\"TMAX\",\"TMIN\"])]\n",
    "    df = df[df['VALUE'] != -999]\n",
    "    df_final = df_final.append(df)\n",
    "\n",
    "df_final.to_csv(\"../Datos/Datos_estaciones_radiacion_solar_samoa.csv\")\n",
    "\n",
    "\n",
    "\n"
   ]
  }
 ],
 "metadata": {
  "kernelspec": {
   "display_name": "Python 2",
   "language": "python",
   "name": "python2"
  },
  "language_info": {
   "codemirror_mode": {
    "name": "ipython",
    "version": 2
   },
   "file_extension": ".py",
   "mimetype": "text/x-python",
   "name": "python",
   "nbconvert_exporter": "python",
   "pygments_lexer": "ipython2",
   "version": "2.7.11"
  }
 },
 "nbformat": 4,
 "nbformat_minor": 0
}
