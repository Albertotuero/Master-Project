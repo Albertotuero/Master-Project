{
 "cells": [
  {
   "cell_type": "code",
   "execution_count": 21,
   "metadata": {
    "collapsed": true
   },
   "outputs": [],
   "source": [
    "# En primer lugar, consideraremos como banco de prueba la estación con mediciones más antiguas\n",
    "# Se trata de la estacion localizada en Milan que tiene información desde 1763\n",
    "\n",
    "import sqlite3\n",
    "\n",
    "# Abrimos la conexión con la BBDD\n",
    "conn = sqlite3.connect(\"D:/master/Master-in-Data-Science/Proyecto/Datos/worldTimeSeries.sqlite\")\n",
    "cursor = conn.cursor()"
   ]
  },
  {
   "cell_type": "code",
   "execution_count": 37,
   "metadata": {
    "collapsed": true
   },
   "outputs": [],
   "source": [
    "from pandas import DataFrame,Series\n",
    "import matplotlib\n",
    "import matplotlib.pyplot as plt\n",
    "%matplotlib inline \n",
    "from matplotlib.pylab import rcParams\n",
    "rcParams['figure.figsize'] = 15, 3\n",
    "import time"
   ]
  },
  {
   "cell_type": "code",
   "execution_count": 23,
   "metadata": {
    "collapsed": false
   },
   "outputs": [
    {
     "name": "stdout",
     "output_type": "stream",
     "text": [
      "89786\n"
     ]
    },
    {
     "data": {
      "text/html": [
       "<div>\n",
       "<table border=\"1\" class=\"dataframe\">\n",
       "  <thead>\n",
       "    <tr style=\"text-align: right;\">\n",
       "      <th></th>\n",
       "      <th>date</th>\n",
       "      <th>tmax</th>\n",
       "      <th>tmin</th>\n",
       "      <th>prcp</th>\n",
       "    </tr>\n",
       "  </thead>\n",
       "  <tbody>\n",
       "    <tr>\n",
       "      <th>0</th>\n",
       "      <td>17630101</td>\n",
       "      <td>-3.6</td>\n",
       "      <td>-5.0</td>\n",
       "      <td>NaN</td>\n",
       "    </tr>\n",
       "    <tr>\n",
       "      <th>1</th>\n",
       "      <td>17630102</td>\n",
       "      <td>-2.6</td>\n",
       "      <td>-4.0</td>\n",
       "      <td>NaN</td>\n",
       "    </tr>\n",
       "    <tr>\n",
       "      <th>2</th>\n",
       "      <td>17630103</td>\n",
       "      <td>-0.9</td>\n",
       "      <td>-2.9</td>\n",
       "      <td>NaN</td>\n",
       "    </tr>\n",
       "    <tr>\n",
       "      <th>3</th>\n",
       "      <td>17630104</td>\n",
       "      <td>-0.4</td>\n",
       "      <td>-2.4</td>\n",
       "      <td>NaN</td>\n",
       "    </tr>\n",
       "    <tr>\n",
       "      <th>4</th>\n",
       "      <td>17630105</td>\n",
       "      <td>2.1</td>\n",
       "      <td>0.1</td>\n",
       "      <td>NaN</td>\n",
       "    </tr>\n",
       "  </tbody>\n",
       "</table>\n",
       "</div>"
      ],
      "text/plain": [
       "       date  tmax  tmin  prcp\n",
       "0  17630101  -3.6  -5.0   NaN\n",
       "1  17630102  -2.6  -4.0   NaN\n",
       "2  17630103  -0.9  -2.9   NaN\n",
       "3  17630104  -0.4  -2.4   NaN\n",
       "4  17630105   2.1   0.1   NaN"
      ]
     },
     "execution_count": 23,
     "metadata": {},
     "output_type": "execute_result"
    }
   ],
   "source": [
    "# Realizamos la query\n",
    "station = 'ITE00100554'\n",
    "\n",
    "# Se calcula la temperatura media por cada uno de los meses\n",
    "rows = cursor.execute(\"\"\"select \n",
    "                            date, \n",
    "                            TMAX, \n",
    "                            TMIN, \n",
    "                            PRCP\n",
    "                        from world_time_europa\n",
    "                        where STATION = '\"\"\"+station+\"';\")\n",
    "\n",
    "df = DataFrame(rows.fetchall())\n",
    "print(len(df))\n",
    "df.columns = [\"date\",\"tmax\",\"tmin\",\"prcp\"]\n",
    "df.head()"
   ]
  },
  {
   "cell_type": "code",
   "execution_count": 24,
   "metadata": {
    "collapsed": false
   },
   "outputs": [],
   "source": [
    "# Tenemos una serie temporal con un total de 89,786 registros, lo que para hacer un análisis inicial es un nivel \n",
    "# muy detallado por tanto, vamos a reducir el conjunto de datos realizando la media de cada unidad por año\n",
    "\n",
    "df[\"year\"] = df.date.map(lambda x: int(x[:4]))\n",
    "estadisticas = {\"tmax\":{\"tmax\":\"median\",\"nobs\":\"count\"},\n",
    "                \"tmin\":{\"tmin\":\"median\"},\n",
    "                \"prcp\":{\"prcp\":\"median\"}}\n",
    "\n",
    "df_agg = df.groupby(\"year\").agg(estadisticas)\n",
    "df_agg.columns = df_agg.columns.droplevel()"
   ]
  },
  {
   "cell_type": "code",
   "execution_count": 25,
   "metadata": {
    "collapsed": false
   },
   "outputs": [
    {
     "data": {
      "text/html": [
       "<div>\n",
       "<table border=\"1\" class=\"dataframe\">\n",
       "  <thead>\n",
       "    <tr style=\"text-align: right;\">\n",
       "      <th></th>\n",
       "      <th>nobs</th>\n",
       "      <th>tmax</th>\n",
       "      <th>prcp</th>\n",
       "      <th>tmin</th>\n",
       "    </tr>\n",
       "    <tr>\n",
       "      <th>year</th>\n",
       "      <th></th>\n",
       "      <th></th>\n",
       "      <th></th>\n",
       "      <th></th>\n",
       "    </tr>\n",
       "  </thead>\n",
       "  <tbody>\n",
       "    <tr>\n",
       "      <th>1763</th>\n",
       "      <td>365</td>\n",
       "      <td>14.70</td>\n",
       "      <td>NaN</td>\n",
       "      <td>9.9</td>\n",
       "    </tr>\n",
       "    <tr>\n",
       "      <th>1764</th>\n",
       "      <td>366</td>\n",
       "      <td>14.85</td>\n",
       "      <td>NaN</td>\n",
       "      <td>9.3</td>\n",
       "    </tr>\n",
       "    <tr>\n",
       "      <th>1765</th>\n",
       "      <td>365</td>\n",
       "      <td>15.70</td>\n",
       "      <td>NaN</td>\n",
       "      <td>11.6</td>\n",
       "    </tr>\n",
       "    <tr>\n",
       "      <th>1766</th>\n",
       "      <td>365</td>\n",
       "      <td>15.30</td>\n",
       "      <td>NaN</td>\n",
       "      <td>11.1</td>\n",
       "    </tr>\n",
       "    <tr>\n",
       "      <th>1767</th>\n",
       "      <td>365</td>\n",
       "      <td>15.30</td>\n",
       "      <td>NaN</td>\n",
       "      <td>9.7</td>\n",
       "    </tr>\n",
       "  </tbody>\n",
       "</table>\n",
       "</div>"
      ],
      "text/plain": [
       "      nobs   tmax  prcp  tmin\n",
       "year                         \n",
       "1763   365  14.70   NaN   9.9\n",
       "1764   366  14.85   NaN   9.3\n",
       "1765   365  15.70   NaN  11.6\n",
       "1766   365  15.30   NaN  11.1\n",
       "1767   365  15.30   NaN   9.7"
      ]
     },
     "execution_count": 25,
     "metadata": {},
     "output_type": "execute_result"
    }
   ],
   "source": [
    "df_agg.head()"
   ]
  },
  {
   "cell_type": "code",
   "execution_count": 38,
   "metadata": {
    "collapsed": false
   },
   "outputs": [
    {
     "data": {
      "image/png": "[encoded data removed]",
      "text/plain": [
       "<matplotlib.figure.Figure at 0xd104a58>"
      ]
     },
     "metadata": {},
     "output_type": "display_data"
    }
   ],
   "source": [
    "plt.plot(df_agg.tmax)\n",
    "plt.grid(True)"
   ]
  },
  {
   "cell_type": "code",
   "execution_count": 39,
   "metadata": {
    "collapsed": false
   },
   "outputs": [
    {
     "data": {
      "image/png": "[encoded data removed]",
      "text/plain": [
       "<matplotlib.figure.Figure at 0xd138748>"
      ]
     },
     "metadata": {},
     "output_type": "display_data"
    }
   ],
   "source": [
    "plt.plot(df_agg.tmin)\n",
    "plt.grid(True)"
   ]
  },
  {
   "cell_type": "code",
   "execution_count": 40,
   "metadata": {
    "collapsed": false
   },
   "outputs": [
    {
     "data": {
      "image/png": "[encoded data removed]",
      "text/plain": [
       "<matplotlib.figure.Figure at 0xcbe4eb8>"
      ]
     },
     "metadata": {},
     "output_type": "display_data"
    }
   ],
   "source": [
    "plt.plot(df_agg.prcp)\n",
    "plt.grid(True)"
   ]
  },
  {
   "cell_type": "code",
   "execution_count": 30,
   "metadata": {
    "collapsed": false
   },
   "outputs": [
    {
     "data": {
      "text/html": [
       "<div>\n",
       "<table border=\"1\" class=\"dataframe\">\n",
       "  <thead>\n",
       "    <tr style=\"text-align: right;\">\n",
       "      <th></th>\n",
       "      <th>date</th>\n",
       "      <th>tmax</th>\n",
       "      <th>tmin</th>\n",
       "      <th>prcp</th>\n",
       "      <th>year</th>\n",
       "    </tr>\n",
       "  </thead>\n",
       "  <tbody>\n",
       "    <tr>\n",
       "      <th>89781</th>\n",
       "      <td>20081127</td>\n",
       "      <td>9.4</td>\n",
       "      <td>3.3</td>\n",
       "      <td>0.0</td>\n",
       "      <td>2008</td>\n",
       "    </tr>\n",
       "    <tr>\n",
       "      <th>89782</th>\n",
       "      <td>20081128</td>\n",
       "      <td>5.5</td>\n",
       "      <td>1.1</td>\n",
       "      <td>0.0</td>\n",
       "      <td>2008</td>\n",
       "    </tr>\n",
       "    <tr>\n",
       "      <th>89783</th>\n",
       "      <td>20081129</td>\n",
       "      <td>8.7</td>\n",
       "      <td>1.9</td>\n",
       "      <td>24.8</td>\n",
       "      <td>2008</td>\n",
       "    </tr>\n",
       "    <tr>\n",
       "      <th>89784</th>\n",
       "      <td>20081130</td>\n",
       "      <td>6.7</td>\n",
       "      <td>3.1</td>\n",
       "      <td>26.4</td>\n",
       "      <td>2008</td>\n",
       "    </tr>\n",
       "    <tr>\n",
       "      <th>89785</th>\n",
       "      <td>20081201</td>\n",
       "      <td>NaN</td>\n",
       "      <td>NaN</td>\n",
       "      <td>7.4</td>\n",
       "      <td>2008</td>\n",
       "    </tr>\n",
       "  </tbody>\n",
       "</table>\n",
       "</div>"
      ],
      "text/plain": [
       "           date  tmax  tmin  prcp  year\n",
       "89781  20081127   9.4   3.3   0.0  2008\n",
       "89782  20081128   5.5   1.1   0.0  2008\n",
       "89783  20081129   8.7   1.9  24.8  2008\n",
       "89784  20081130   6.7   3.1  26.4  2008\n",
       "89785  20081201   NaN   NaN   7.4  2008"
      ]
     },
     "execution_count": 30,
     "metadata": {},
     "output_type": "execute_result"
    }
   ],
   "source": [
    "df.tail()"
   ]
  },
  {
   "cell_type": "markdown",
   "metadata": {},
   "source": [
    "Se observa que efectivamente en los últimos años de la serie se presentan anomalías en los 3 indicadores, pero no tenemos la información completa, ya que el último dato disponible de la estación data de 2008, por tanto tenemos que localizar una estacion en una localización con similares características para poder extrapolar las medidas de la estación de Milan con esa nueva localizacion.\n",
    "\n",
    "¿Desde que fecha debemos completar?\n",
    "\n",
    "La serie se trunca en 2008, pero los datos anómalos que se observan desde 2006 parecen indicar anomalias en las observaciones, ya que rompe totalmente y muy bruscamente los datos. Si observamos la serie histórica, cada año hay 365 o 366 observaciones, salvo en los años de 2007 y 2008 que presentan 331 y 336 observaciones respectivamente, es decir que falta al menos 1 mes de observaciones, si esa falta estuviera distribuida uniformemente por todo el año podríamos inferir que la anomalía no es debida a esa falta de información, pero si sacamos el número de observaciones por mes, vemos que en 2007 faltan 4 días de Julio y 30 de Octubre, un mes en el que las temperaturas se reducen, por tanto podría explicar la subida en la temperatura media anual en 2 grados\n",
    "\n",
    "Para 2008, se observa que faltan 30 días de Diciembre, el primer mes de invierno, que puede explicar el incremento observado en temperaturas y reducción de precipitaciones\n",
    "\n",
    "En 2006, a pesar de ser el primer año con anomalías, parece que no es debido al tamaño de los datos, por tanto consideraremos que ese año la información es correcta. Por tanto para completar la información de la serie de Milan debemos buscar las observaciones de la estacion meteorológica más parecida desde el año 2007\n"
   ]
  },
  {
   "cell_type": "code",
   "execution_count": 31,
   "metadata": {
    "collapsed": true
   },
   "outputs": [],
   "source": [
    "# Para los años 2007 y 2008 revisamos qué días del año faltan\n",
    "df[\"month\"] = df.date.map(lambda x: int(x[:6]))\n",
    "df_agg_month = df[[\"month\",\"tmax\"]].groupby(\"month\").count()\n",
    "df_agg_month = df_agg_month.reset_index()"
   ]
  },
  {
   "cell_type": "code",
   "execution_count": 32,
   "metadata": {
    "collapsed": true
   },
   "outputs": [],
   "source": [
    "df_2007 = df_agg_month[df_agg_month.month >= 200701]\n",
    "df_2007 = df_2007[df_2007.month < 200801]\n",
    "\n",
    "df_2008 = df_agg_month[df_agg_month.month >= 200801]\n",
    "df_2008 = df_2008[df_2008.month < 200901]"
   ]
  },
  {
   "cell_type": "code",
   "execution_count": 33,
   "metadata": {
    "collapsed": false
   },
   "outputs": [
    {
     "data": {
      "text/html": [
       "<div>\n",
       "<table border=\"1\" class=\"dataframe\">\n",
       "  <thead>\n",
       "    <tr style=\"text-align: right;\">\n",
       "      <th></th>\n",
       "      <th>month</th>\n",
       "      <th>tmax</th>\n",
       "    </tr>\n",
       "  </thead>\n",
       "  <tbody>\n",
       "    <tr>\n",
       "      <th>2928</th>\n",
       "      <td>200701</td>\n",
       "      <td>31</td>\n",
       "    </tr>\n",
       "    <tr>\n",
       "      <th>2929</th>\n",
       "      <td>200702</td>\n",
       "      <td>28</td>\n",
       "    </tr>\n",
       "    <tr>\n",
       "      <th>2930</th>\n",
       "      <td>200703</td>\n",
       "      <td>31</td>\n",
       "    </tr>\n",
       "    <tr>\n",
       "      <th>2931</th>\n",
       "      <td>200704</td>\n",
       "      <td>30</td>\n",
       "    </tr>\n",
       "    <tr>\n",
       "      <th>2932</th>\n",
       "      <td>200705</td>\n",
       "      <td>31</td>\n",
       "    </tr>\n",
       "    <tr>\n",
       "      <th>2933</th>\n",
       "      <td>200706</td>\n",
       "      <td>30</td>\n",
       "    </tr>\n",
       "    <tr>\n",
       "      <th>2934</th>\n",
       "      <td>200707</td>\n",
       "      <td>27</td>\n",
       "    </tr>\n",
       "    <tr>\n",
       "      <th>2935</th>\n",
       "      <td>200708</td>\n",
       "      <td>31</td>\n",
       "    </tr>\n",
       "    <tr>\n",
       "      <th>2936</th>\n",
       "      <td>200709</td>\n",
       "      <td>30</td>\n",
       "    </tr>\n",
       "    <tr>\n",
       "      <th>2937</th>\n",
       "      <td>200710</td>\n",
       "      <td>1</td>\n",
       "    </tr>\n",
       "    <tr>\n",
       "      <th>2938</th>\n",
       "      <td>200711</td>\n",
       "      <td>30</td>\n",
       "    </tr>\n",
       "    <tr>\n",
       "      <th>2939</th>\n",
       "      <td>200712</td>\n",
       "      <td>31</td>\n",
       "    </tr>\n",
       "  </tbody>\n",
       "</table>\n",
       "</div>"
      ],
      "text/plain": [
       "       month  tmax\n",
       "2928  200701    31\n",
       "2929  200702    28\n",
       "2930  200703    31\n",
       "2931  200704    30\n",
       "2932  200705    31\n",
       "2933  200706    30\n",
       "2934  200707    27\n",
       "2935  200708    31\n",
       "2936  200709    30\n",
       "2937  200710     1\n",
       "2938  200711    30\n",
       "2939  200712    31"
      ]
     },
     "execution_count": 33,
     "metadata": {},
     "output_type": "execute_result"
    }
   ],
   "source": [
    "df_2007"
   ]
  },
  {
   "cell_type": "code",
   "execution_count": 34,
   "metadata": {
    "collapsed": false
   },
   "outputs": [
    {
     "data": {
      "text/html": [
       "<div>\n",
       "<table border=\"1\" class=\"dataframe\">\n",
       "  <thead>\n",
       "    <tr style=\"text-align: right;\">\n",
       "      <th></th>\n",
       "      <th>month</th>\n",
       "      <th>tmax</th>\n",
       "    </tr>\n",
       "  </thead>\n",
       "  <tbody>\n",
       "    <tr>\n",
       "      <th>2940</th>\n",
       "      <td>200801</td>\n",
       "      <td>31</td>\n",
       "    </tr>\n",
       "    <tr>\n",
       "      <th>2941</th>\n",
       "      <td>200802</td>\n",
       "      <td>29</td>\n",
       "    </tr>\n",
       "    <tr>\n",
       "      <th>2942</th>\n",
       "      <td>200803</td>\n",
       "      <td>31</td>\n",
       "    </tr>\n",
       "    <tr>\n",
       "      <th>2943</th>\n",
       "      <td>200804</td>\n",
       "      <td>30</td>\n",
       "    </tr>\n",
       "    <tr>\n",
       "      <th>2944</th>\n",
       "      <td>200805</td>\n",
       "      <td>31</td>\n",
       "    </tr>\n",
       "    <tr>\n",
       "      <th>2945</th>\n",
       "      <td>200806</td>\n",
       "      <td>30</td>\n",
       "    </tr>\n",
       "    <tr>\n",
       "      <th>2946</th>\n",
       "      <td>200807</td>\n",
       "      <td>31</td>\n",
       "    </tr>\n",
       "    <tr>\n",
       "      <th>2947</th>\n",
       "      <td>200808</td>\n",
       "      <td>31</td>\n",
       "    </tr>\n",
       "    <tr>\n",
       "      <th>2948</th>\n",
       "      <td>200809</td>\n",
       "      <td>30</td>\n",
       "    </tr>\n",
       "    <tr>\n",
       "      <th>2949</th>\n",
       "      <td>200810</td>\n",
       "      <td>31</td>\n",
       "    </tr>\n",
       "    <tr>\n",
       "      <th>2950</th>\n",
       "      <td>200811</td>\n",
       "      <td>30</td>\n",
       "    </tr>\n",
       "    <tr>\n",
       "      <th>2951</th>\n",
       "      <td>200812</td>\n",
       "      <td>0</td>\n",
       "    </tr>\n",
       "  </tbody>\n",
       "</table>\n",
       "</div>"
      ],
      "text/plain": [
       "       month  tmax\n",
       "2940  200801    31\n",
       "2941  200802    29\n",
       "2942  200803    31\n",
       "2943  200804    30\n",
       "2944  200805    31\n",
       "2945  200806    30\n",
       "2946  200807    31\n",
       "2947  200808    31\n",
       "2948  200809    30\n",
       "2949  200810    31\n",
       "2950  200811    30\n",
       "2951  200812     0"
      ]
     },
     "execution_count": 34,
     "metadata": {},
     "output_type": "execute_result"
    }
   ],
   "source": [
    "df_2008"
   ]
  },
  {
   "cell_type": "markdown",
   "metadata": {},
   "source": [
    "En ambos casos falta información de 1 mes de otoño/invierno, justo cuando las temperaturas son más bajas, por tanto los picos observados en 2007 y 2008 no son válidos\n",
    "\n",
    "Por simplicidad, vamos a considerar los mismos indicadores pero para cada cada continente, para ver si a nivel global se observa alguna tendencia"
   ]
  },
  {
   "cell_type": "code",
   "execution_count": 35,
   "metadata": {
    "collapsed": true
   },
   "outputs": [],
   "source": [
    "# Comenzamos con europa\n",
    "continentes=[\"europa\"]\n",
    "#continentes=[\"europa\",\"africa\",\"asia\",\"oceania\",\"north_america\",\"central_america\",\"south_america\",\"antarctida\"]\n",
    "\n",
    "for cont in continentes:\n",
    "    # Se calcula la temperatura media por cada uno de los meses\n",
    "    rows = cursor.execute(\"\"\"select \n",
    "                            substr(date,1,4) as date, \n",
    "                            avg(TMAX) as TMAX, \n",
    "                            avg(TMIN) as TMIN, \n",
    "                            avg(PRCP) as PRCP,\n",
    "                            count(*) as NOBS\n",
    "                        from world_time_\"\"\"+cont+\"\"\" \n",
    "                        group by substr(date,1,4)\n",
    "                        order by substr(date,1,4);\"\"\")\n",
    "    result=[]\n",
    "    for r in rows:\n",
    "        result.append({\"date\":r[0],\"TMAX\":r[1],\"TMIN\":r[2],\"PRCP\":r[3],\"NOBS\":r[4]})\n",
    "   \n",
    "    df_europa = DataFrame(result)"
   ]
  },
  {
   "cell_type": "code",
   "execution_count": 41,
   "metadata": {
    "collapsed": false
   },
   "outputs": [
    {
     "data": {
      "text/plain": [
       "[<matplotlib.lines.Line2D at 0xa5cb3c8>]"
      ]
     },
     "execution_count": 41,
     "metadata": {},
     "output_type": "execute_result"
    },
    {
     "data": {
      "image/png": "[encoded data removed]",
      "text/plain": [
       "<matplotlib.figure.Figure at 0xcb5ccf8>"
      ]
     },
     "metadata": {},
     "output_type": "display_data"
    }
   ],
   "source": [
    "plt.plot(df_europa.date,df_europa.NOBS)"
   ]
  },
  {
   "cell_type": "markdown",
   "metadata": {},
   "source": [
    "Se obserba que el número de estaciones no es constante a lo largo de la historia, se van incluyendo nuevas estaciones de medicion, principalmente a partir de 1950. Como nuestro estudio trata de ver una variación significativa en la evolución temporal, debemos tener al menos 100 años de observaciones de cada estacion, para determinar un patrón, para ello realizamos la query necesaria para quedarnos con las observaciones de las estaciones más antiguas, es decir, existentes en 1900\n"
   ]
  },
  {
   "cell_type": "code",
   "execution_count": 42,
   "metadata": {
    "collapsed": true
   },
   "outputs": [],
   "source": [
    "continentes=[\"europa\"]\n",
    "#continentes=[\"europa\",\"africa\",\"asia\",\"oceania\",\"north_america\",\"central_america\",\"south_america\",\"antarctida\"]\n",
    "\n",
    "for cont in continentes:\n",
    "    # Se recuperan todas las estaciones del continentes que existían en Enero de 1900\n",
    "    rows = cursor.execute(\"select distinct station from world_time_\"+cont+\" where date = '19000101';\")\n",
    "    station_list_1900 = DataFrame(rows.fetchall())\n",
    "    \n",
    "    # Se compone la lista de estaciones para que lo entienda SQL\n",
    "    stations = \"\"\n",
    "    for s in station_list_1900.as_matrix():\n",
    "        if stations != \"\":\n",
    "            stations = stations + \",\"\n",
    "        stations = stations + \"'\" + s[0] + \"'\"\n",
    "            \n",
    "    # Se calcula la temperatura media por cada uno de los meses\n",
    "    rows = cursor.execute(\"\"\"select \n",
    "                            date, \n",
    "                            sum(TMAX) as TMAX, \n",
    "                            sum(TMIN) as TMIN, \n",
    "                            sum(PRCP) as PRCP,\n",
    "                            count(*) as NOBS\n",
    "                        from world_time_\"\"\"+cont+\"\"\" \n",
    "                        where station in (\"\"\"+stations+\"\"\") \n",
    "                        group by date\n",
    "                        order by date;\"\"\")\n",
    "    result=[]\n",
    "    for r in rows:\n",
    "        result.append({\"date\":r[0],\"TMAX\":r[1],\"TMIN\":r[2],\"PRCP\":r[3],\"NOBS\":r[4]})\n",
    "   \n",
    "    if cont == \"europa\":\n",
    "        df_europa = DataFrame(result)\n",
    "        \n",
    "# Para reducir el tiempo que consume la query anterior, se hace la media anual de temperaturas fuera del SQL\n",
    "# Se calcula el año a partir de la fecha\n",
    "df_europa['year'] = df_europa.date.map(lambda x: x[:4])\n",
    "# Se realiza el group by por año\n",
    "df_europa_agg = df_europa.groupby('year').sum()\n",
    "# Se recalculan los indicadores\n",
    "df_europa_agg = df_europa_agg.reset_index()\n",
    "df_europa_agg.TMAX = df_europa_agg.TMAX/df_europa_agg.NOBS\n",
    "df_europa_agg.TMIN = df_europa_agg.TMIN/df_europa_agg.NOBS\n",
    "df_europa_agg.PRCP = df_europa_agg.PRCP/df_europa_agg.NOBS"
   ]
  },
  {
   "cell_type": "code",
   "execution_count": 43,
   "metadata": {
    "collapsed": false
   },
   "outputs": [
    {
     "data": {
      "text/plain": [
       "[<matplotlib.lines.Line2D at 0x126e3240>]"
      ]
     },
     "execution_count": 43,
     "metadata": {},
     "output_type": "execute_result"
    },
    {
     "data": {
      "image/png": "[encoded data removed]",
      "text/plain": [
       "<matplotlib.figure.Figure at 0x8eea4a8>"
      ]
     },
     "metadata": {},
     "output_type": "display_data"
    }
   ],
   "source": [
    "# Se representa la evolución del número de observaciones desde 1900\n",
    "plt.plot(df_europa_agg.year,df_europa_agg.NOBS)"
   ]
  },
  {
   "cell_type": "markdown",
   "metadata": {},
   "source": [
    "Se observa que algunas estaciones dejan de proveer información, por tanto nos interesan únicamente aquellas que siguen existiendo en 2016, más concretamente en Abril de 2016\n"
   ]
  },
  {
   "cell_type": "code",
   "execution_count": 44,
   "metadata": {
    "collapsed": true
   },
   "outputs": [],
   "source": [
    "continentes=[\"europa\"]\n",
    "#continentes=[\"europa\",\"africa\",\"asia\",\"oceania\",\"north_america\",\"central_america\",\"south_america\",\"antarctida\"]\n",
    "\n",
    "for cont in continentes:\n",
    "    # Se recuperan todas las estaciones del continentes que existían previamente a 1900 y existen en 2016\n",
    "    rows = cursor.execute(\"select distinct station from world_time_\"+cont+\" where date = '19000101';\")\n",
    "        \n",
    "    station_list_1900 = []\n",
    "    for r in rows:\n",
    "        station_list_1900.append({\"station\":r[0]})\n",
    "\n",
    "    rows = cursor.execute(\"select distinct station from world_time_\"+cont+\" where date = '20160401';\")        \n",
    "    station_list_2016 = []\n",
    "    for r in rows:\n",
    "        station_list_2016.append({\"station\":r[0]})\n",
    "\n",
    "    station_list_1900 = DataFrame(station_list_1900)\n",
    "    station_list_2016 = DataFrame(station_list_2016)\n",
    "\n",
    "    # Nos quedamos con las estaciones que estan en ambas listas\n",
    "    station_list = station_list_1900.merge(station_list_2016)\n",
    "    station_list = station_list.reset_index()\n",
    "    \n",
    "    # Se compone la lista de estaciones para que lo entienda SQL\n",
    "    stations = \"\"\n",
    "    for s in station_list.as_matrix():\n",
    "        if stations != \"\":\n",
    "            stations = stations + \",\"\n",
    "        stations = stations + \"'\" + s[1] + \"'\"\n",
    "            \n",
    "    # Se calcula la temperatura media por cada uno de los meses\n",
    "    rows = cursor.execute(\"\"\"select \n",
    "                            date, \n",
    "                            sum(TMAX) as TMAX, \n",
    "                            sum(TMIN) as TMIN, \n",
    "                            sum(PRCP) as PRCP,\n",
    "                            count(*) as NOBS\n",
    "                        from world_time_\"\"\"+cont+\"\"\" \n",
    "                        where station in (\"\"\"+stations+\"\"\") \n",
    "                        group by date\n",
    "                        order by date;\"\"\")\n",
    "    result=[]\n",
    "    for r in rows:\n",
    "        result.append({\"date\":r[0],\"TMAX\":r[1],\"TMIN\":r[2],\"PRCP\":r[3],\"NOBS\":r[4]})\n",
    "   \n",
    "    if cont == \"europa\":\n",
    "        df_europa = DataFrame(result)\n",
    "\n",
    "# Para reducir el tiempo que consume la query anterior, se hace la media anual de temperaturas fuera del SQL\n",
    "# Se calcula el año a partir de la fecha\n",
    "df_europa['year'] = df_europa.date.map(lambda x: x[:4])\n",
    "# Se realiza el group by por año\n",
    "df_europa_agg = df_europa.groupby('year').sum()\n",
    "# Se recalculan los indicadores\n",
    "df_europa_agg = df_europa_agg.reset_index()\n",
    "df_europa_agg.TMAX = df_europa_agg.TMAX/df_europa_agg.NOBS\n",
    "df_europa_agg.TMIN = df_europa_agg.TMIN/df_europa_agg.NOBS\n",
    "df_europa_agg.PRCP = df_europa_agg.PRCP/df_europa_agg.NOBS"
   ]
  },
  {
   "cell_type": "code",
   "execution_count": 46,
   "metadata": {
    "collapsed": false
   },
   "outputs": [
    {
     "data": {
      "text/html": [
       "<div>\n",
       "<table border=\"1\" class=\"dataframe\">\n",
       "  <thead>\n",
       "    <tr style=\"text-align: right;\">\n",
       "      <th></th>\n",
       "      <th>year</th>\n",
       "      <th>NOBS</th>\n",
       "      <th>PRCP</th>\n",
       "      <th>TMAX</th>\n",
       "      <th>TMIN</th>\n",
       "    </tr>\n",
       "  </thead>\n",
       "  <tbody>\n",
       "    <tr>\n",
       "      <th>0</th>\n",
       "      <td>1833</td>\n",
       "      <td>364</td>\n",
       "      <td>NaN</td>\n",
       "      <td>14.141209</td>\n",
       "      <td>5.137637</td>\n",
       "    </tr>\n",
       "    <tr>\n",
       "      <th>1</th>\n",
       "      <td>1834</td>\n",
       "      <td>365</td>\n",
       "      <td>NaN</td>\n",
       "      <td>15.741644</td>\n",
       "      <td>7.205753</td>\n",
       "    </tr>\n",
       "    <tr>\n",
       "      <th>2</th>\n",
       "      <td>1835</td>\n",
       "      <td>365</td>\n",
       "      <td>NaN</td>\n",
       "      <td>14.107397</td>\n",
       "      <td>5.665753</td>\n",
       "    </tr>\n",
       "    <tr>\n",
       "      <th>3</th>\n",
       "      <td>1836</td>\n",
       "      <td>366</td>\n",
       "      <td>NaN</td>\n",
       "      <td>13.880601</td>\n",
       "      <td>5.936339</td>\n",
       "    </tr>\n",
       "    <tr>\n",
       "      <th>4</th>\n",
       "      <td>1837</td>\n",
       "      <td>365</td>\n",
       "      <td>NaN</td>\n",
       "      <td>13.259452</td>\n",
       "      <td>5.254795</td>\n",
       "    </tr>\n",
       "  </tbody>\n",
       "</table>\n",
       "</div>"
      ],
      "text/plain": [
       "   year  NOBS  PRCP       TMAX      TMIN\n",
       "0  1833   364   NaN  14.141209  5.137637\n",
       "1  1834   365   NaN  15.741644  7.205753\n",
       "2  1835   365   NaN  14.107397  5.665753\n",
       "3  1836   366   NaN  13.880601  5.936339\n",
       "4  1837   365   NaN  13.259452  5.254795"
      ]
     },
     "execution_count": 46,
     "metadata": {},
     "output_type": "execute_result"
    }
   ],
   "source": [
    "df_europa_agg.head()"
   ]
  },
  {
   "cell_type": "code",
   "execution_count": 47,
   "metadata": {
    "collapsed": false
   },
   "outputs": [
    {
     "data": {
      "text/plain": [
       "[<matplotlib.lines.Line2D at 0x11b19f60>]"
      ]
     },
     "execution_count": 47,
     "metadata": {},
     "output_type": "execute_result"
    },
    {
     "data": {
      "image/png": "[encoded data removed]",
      "text/plain": [
       "<matplotlib.figure.Figure at 0xeb7c4a8>"
      ]
     },
     "metadata": {},
     "output_type": "display_data"
    }
   ],
   "source": [
    "# Se representa la evolución del número de observaciones desde 1900\n",
    "plt.plot(df_europa_agg.year,df_europa_agg.NOBS)"
   ]
  },
  {
   "cell_type": "markdown",
   "metadata": {},
   "source": [
    "Aun así en la primera parte del siglo XX se observa que algunas estaciones dejan de proporcionar datos, para a continuación empezar a volver a generarlos a partir de 1950, por las fechas, parecería ser debido a las guerras mundiales, debemos eliminar dichas estaciones\n"
   ]
  },
  {
   "cell_type": "code",
   "execution_count": 48,
   "metadata": {
    "collapsed": true
   },
   "outputs": [],
   "source": [
    "conn.close()"
   ]
  }
 ],
 "metadata": {
  "kernelspec": {
   "display_name": "Python 2",
   "language": "python",
   "name": "python2"
  },
  "language_info": {
   "codemirror_mode": {
    "name": "ipython",
    "version": 2
   },
   "file_extension": ".py",
   "mimetype": "text/x-python",
   "name": "python",
   "nbconvert_exporter": "python",
   "pygments_lexer": "ipython2",
   "version": "2.7.11"
  }
 },
 "nbformat": 4,
 "nbformat_minor": 0
}
