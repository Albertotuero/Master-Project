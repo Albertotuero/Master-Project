{
 "cells": [
  {
   "cell_type": "code",
   "execution_count": null,
   "metadata": {
    "collapsed": true
   },
   "outputs": [],
   "source": [
    "#Recuperacion de la informacion disponible en la NOAA de forma anual \n",
    "\n",
    "#Existe un unico archivo por periodo anual, desde 1763 a 2016, por tanto generamos una descarga para cada archivo\n",
    "\n",
    "import urllib\n",
    "\n",
    "#Se itera para cada periodo anual disponible en la pagina de la NOAA \n",
    "url_base = 'ftp://ftp.ncdc.noaa.gov/pub/data/ghcn/daily/by_year/'\n",
    "for x in range(1763, 2017):\n",
    "    url = url_base + str(x) + '.csv.gz'\n",
    "    print \"Downloading \" + str(x) + \" year dataset\"\n",
    "    urllib.urlretrieve(url,\"D:/master/Master-in-Data-Science/Proyecto/Datos/Temperatura/\"  + str(x) + '.csv.gz')"
   ]
  }
 ],
 "metadata": {
  "kernelspec": {
   "display_name": "Python 2",
   "language": "python",
   "name": "python2"
  },
  "language_info": {
   "codemirror_mode": {
    "name": "ipython",
    "version": 2
   },
   "file_extension": ".py",
   "mimetype": "text/x-python",
   "name": "python",
   "nbconvert_exporter": "python",
   "pygments_lexer": "ipython2",
   "version": "2.7.11"
  }
 },
 "nbformat": 4,
 "nbformat_minor": 0
}
