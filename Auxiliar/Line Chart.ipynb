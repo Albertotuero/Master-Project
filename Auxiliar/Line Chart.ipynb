{
 "cells": [
  {
   "cell_type": "code",
   "execution_count": 38,
   "metadata": {
    "collapsed": false
   },
   "outputs": [
    {
     "name": "stdout",
     "output_type": "stream",
     "text": [
      "Overwriting templates/line_chart.template\n"
     ]
    }
   ],
   "source": [
    "%%writefile templates/line_chart.template\n",
    "<!DOCTYPE html>\n",
    "<meta charset=\"utf-8\">\n",
    "<style>\n",
    "\n",
    "body {\n",
    "  font: 10px sans-serif;\n",
    "}\n",
    "\n",
    ".axis path,\n",
    ".axis line {\n",
    "  fill: none;\n",
    "  stroke: #000;\n",
    "  shape-rendering: crispEdges;\n",
    "}\n",
    "\n",
    ".x.axis path {\n",
    "  display: none;\n",
    "}\n",
    "\n",
    ".line {\n",
    "  fill: none;\n",
    "  stroke: steelblue;\n",
    "  stroke-width: 1.5px;\n",
    "}\n",
    "\n",
    "</style>\n",
    "<body>\n",
    "<script src=\"//d3js.org/d3.v3.min.js\"></script>\n",
    "<script>\n",
    "\n",
    "var margin = {top: 20, right: 20, bottom: 30, left: 50},\n",
    "    width = {width} - margin.left - margin.right,\n",
    "    height = {height} - margin.top - margin.bottom;\n",
    "\n",
    "var formatDate = d3.time.format(\"%Y%m%d\");\n",
    "\n",
    "var x = d3.time.scale()\n",
    "    .range([0, width]);\n",
    "\n",
    "var y = d3.scale.linear()\n",
    "    .range([height, 0]);\n",
    "\n",
    "var xAxis = d3.svg.axis()\n",
    "    .scale(x)\n",
    "    .orient(\"bottom\");\n",
    "\n",
    "var yAxis = d3.svg.axis()\n",
    "    .scale(y)\n",
    "    .orient(\"left\");\n",
    "\n",
    "var line = d3.svg.line()\n",
    "    .x(function(d) { return x(d.date); })\n",
    "    .y(function(d) { return y(d.close); });\n",
    "\n",
    "var svg = d3.select(\"body\").append(\"svg\")\n",
    "    .attr(\"width\", width + margin.left + margin.right)\n",
    "    .attr(\"height\", height + margin.top + margin.bottom)\n",
    "  .append(\"g\")\n",
    "    .attr(\"transform\", \"translate(\" + margin.left + \",\" + margin.top + \")\");\n",
    "\n",
    "    \n",
    "var process = function(error, data) {\n",
    "  if (error) throw error;\n",
    "    \n",
    "    data = data.map(type)\n",
    "    \n",
    "  x.domain(d3.extent(data, function(d) { return d.date; }));\n",
    "  y.domain(d3.extent(data, function(d) { return d.close; }));\n",
    "\n",
    "  svg.append(\"g\")\n",
    "      .attr(\"class\", \"x axis\")\n",
    "      .attr(\"transform\", \"translate(0,\" + height + \")\")\n",
    "      .call(xAxis);\n",
    "\n",
    "  svg.append(\"g\")\n",
    "      .attr(\"class\", \"y axis\")\n",
    "      .call(yAxis)\n",
    "    .append(\"text\")\n",
    "      .attr(\"transform\", \"rotate(-90)\")\n",
    "      .attr(\"y\", 6)\n",
    "      .attr(\"dy\", \".71em\")\n",
    "      .style(\"text-anchor\", \"end\")\n",
    "      .text(\"Temperature\");\n",
    "\n",
    "  svg.append(\"path\")\n",
    "      .datum(data)\n",
    "      .attr(\"class\", \"line\")\n",
    "      .attr(\"d\", line);\n",
    "}\n",
    "    \n",
    "\n",
    "var data = {data}\n",
    "process(\"\",data)\n",
    "\n",
    "function type(d) {\n",
    "  d.date = formatDate.parse(\"\"+d.date);\n",
    "  d.close = +d.close;\n",
    "  return d;\n",
    "}\n",
    "\n",
    "</script>"
   ]
  },
  {
   "cell_type": "code",
   "execution_count": 4,
   "metadata": {
    "collapsed": true
   },
   "outputs": [],
   "source": [
    "import json\n",
    "from IPython.display import IFrame\n",
    "import pandas as pd"
   ]
  },
  {
   "cell_type": "code",
   "execution_count": 30,
   "metadata": {
    "collapsed": false
   },
   "outputs": [],
   "source": [
    "data = \"\"\"\n",
    "[{\"date\":\"24-Apr-08\", \"close\":99.24},\n",
    "  {\"date\":\"25-Apr-08, \"close\":100.24},\n",
    "  {\"date\":\"26-Apr-08\", \"close\":89.24},\n",
    "  {\"date\":\"27-Apr-08\", \"close\":92.24},\n",
    "  {\"date\":\"28-Apr-08\", \"close\":95.24},\n",
    "  {\"date\":\"29-Apr-08\", \"close\":90.24}]\n",
    "\"\"\""
   ]
  },
  {
   "cell_type": "code",
   "execution_count": 31,
   "metadata": {
    "collapsed": false,
    "scrolled": true
   },
   "outputs": [
    {
     "data": {
      "text/html": [
       "\n",
       "        <iframe\n",
       "            width=\"800\"\n",
       "            height=\"800\"\n",
       "            src=\"tmp/line_chart.html\"\n",
       "            frameborder=\"0\"\n",
       "            allowfullscreen\n",
       "        ></iframe>\n",
       "        "
      ],
      "text/plain": [
       "<IPython.lib.display.IFrame at 0x7f7dae685d50>"
      ]
     },
     "execution_count": 31,
     "metadata": {},
     "output_type": "execute_result"
    }
   ],
   "source": [
    "input= open(\"templates/line_chart.template\")\n",
    "text = input.read()\n",
    "input.close()\n",
    "text=text.replace(\"{data}\",data)\n",
    "output = open(\"tmp/line_chart.html\",\"w\")\n",
    "output.write(text)\n",
    "output.close()\n",
    "IFrame(\"tmp/line_chart.html\",800,800)"
   ]
  },
  {
   "cell_type": "code",
   "execution_count": 10,
   "metadata": {
    "collapsed": true
   },
   "outputs": [],
   "source": [
    "import pandas as pd"
   ]
  },
  {
   "cell_type": "code",
   "execution_count": 13,
   "metadata": {
    "collapsed": false
   },
   "outputs": [
    {
     "data": {
      "text/html": [
       "<div>\n",
       "<table border=\"1\" class=\"dataframe\">\n",
       "  <thead>\n",
       "    <tr style=\"text-align: right;\">\n",
       "      <th></th>\n",
       "      <th>0</th>\n",
       "      <th>1</th>\n",
       "      <th>2</th>\n",
       "      <th>3</th>\n",
       "      <th>4</th>\n",
       "      <th>5</th>\n",
       "      <th>6</th>\n",
       "      <th>7</th>\n",
       "      <th>8</th>\n",
       "      <th>9</th>\n",
       "      <th>10</th>\n",
       "      <th>11</th>\n",
       "      <th>12</th>\n",
       "      <th>13</th>\n",
       "      <th>14</th>\n",
       "    </tr>\n",
       "  </thead>\n",
       "  <tbody>\n",
       "    <tr>\n",
       "      <th>0</th>\n",
       "      <td>0</td>\n",
       "      <td>51957</td>\n",
       "      <td>IVM00065594</td>\n",
       "      <td>20160101</td>\n",
       "      <td>TAVG</td>\n",
       "      <td>28.3</td>\n",
       "      <td>H</td>\n",
       "      <td>NaN</td>\n",
       "      <td>S</td>\n",
       "      <td>NaN</td>\n",
       "      <td>SPY</td>\n",
       "      <td>4.746717</td>\n",
       "      <td>-6.660817</td>\n",
       "      <td>Ivory Coast</td>\n",
       "      <td>San Pedro</td>\n",
       "    </tr>\n",
       "    <tr>\n",
       "      <th>1</th>\n",
       "      <td>1</td>\n",
       "      <td>141546</td>\n",
       "      <td>IVM00065594</td>\n",
       "      <td>20160102</td>\n",
       "      <td>TAVG</td>\n",
       "      <td>27.9</td>\n",
       "      <td>H</td>\n",
       "      <td>NaN</td>\n",
       "      <td>S</td>\n",
       "      <td>NaN</td>\n",
       "      <td>SPY</td>\n",
       "      <td>4.746717</td>\n",
       "      <td>-6.660817</td>\n",
       "      <td>Ivory Coast</td>\n",
       "      <td>San Pedro</td>\n",
       "    </tr>\n",
       "    <tr>\n",
       "      <th>2</th>\n",
       "      <td>2</td>\n",
       "      <td>231680</td>\n",
       "      <td>IVM00065594</td>\n",
       "      <td>20160103</td>\n",
       "      <td>TAVG</td>\n",
       "      <td>26.8</td>\n",
       "      <td>H</td>\n",
       "      <td>NaN</td>\n",
       "      <td>S</td>\n",
       "      <td>NaN</td>\n",
       "      <td>SPY</td>\n",
       "      <td>4.746717</td>\n",
       "      <td>-6.660817</td>\n",
       "      <td>Ivory Coast</td>\n",
       "      <td>San Pedro</td>\n",
       "    </tr>\n",
       "    <tr>\n",
       "      <th>3</th>\n",
       "      <td>3</td>\n",
       "      <td>323605</td>\n",
       "      <td>IVM00065594</td>\n",
       "      <td>20160104</td>\n",
       "      <td>TAVG</td>\n",
       "      <td>27.6</td>\n",
       "      <td>H</td>\n",
       "      <td>NaN</td>\n",
       "      <td>S</td>\n",
       "      <td>NaN</td>\n",
       "      <td>SPY</td>\n",
       "      <td>4.746717</td>\n",
       "      <td>-6.660817</td>\n",
       "      <td>Ivory Coast</td>\n",
       "      <td>San Pedro</td>\n",
       "    </tr>\n",
       "    <tr>\n",
       "      <th>4</th>\n",
       "      <td>4</td>\n",
       "      <td>416249</td>\n",
       "      <td>IVM00065594</td>\n",
       "      <td>20160105</td>\n",
       "      <td>TAVG</td>\n",
       "      <td>27.2</td>\n",
       "      <td>H</td>\n",
       "      <td>NaN</td>\n",
       "      <td>S</td>\n",
       "      <td>NaN</td>\n",
       "      <td>SPY</td>\n",
       "      <td>4.746717</td>\n",
       "      <td>-6.660817</td>\n",
       "      <td>Ivory Coast</td>\n",
       "      <td>San Pedro</td>\n",
       "    </tr>\n",
       "  </tbody>\n",
       "</table>\n",
       "</div>"
      ],
      "text/plain": [
       "   0       1            2         3     4     5  6   7  8   9    10        11  \\\n",
       "0   0   51957  IVM00065594  20160101  TAVG  28.3  H NaN  S NaN  SPY  4.746717   \n",
       "1   1  141546  IVM00065594  20160102  TAVG  27.9  H NaN  S NaN  SPY  4.746717   \n",
       "2   2  231680  IVM00065594  20160103  TAVG  26.8  H NaN  S NaN  SPY  4.746717   \n",
       "3   3  323605  IVM00065594  20160104  TAVG  27.6  H NaN  S NaN  SPY  4.746717   \n",
       "4   4  416249  IVM00065594  20160105  TAVG  27.2  H NaN  S NaN  SPY  4.746717   \n",
       "\n",
       "         12           13         14  \n",
       "0 -6.660817  Ivory Coast  San Pedro  \n",
       "1 -6.660817  Ivory Coast  San Pedro  \n",
       "2 -6.660817  Ivory Coast  San Pedro  \n",
       "3 -6.660817  Ivory Coast  San Pedro  \n",
       "4 -6.660817  Ivory Coast  San Pedro  "
      ]
     },
     "execution_count": 13,
     "metadata": {},
     "output_type": "execute_result"
    }
   ],
   "source": [
    "df = pd.read_csv(\"datos/worldTemperatures.csv\",header=None)\n",
    "df.head()"
   ]
  },
  {
   "cell_type": "code",
   "execution_count": 16,
   "metadata": {
    "collapsed": true
   },
   "outputs": [],
   "source": [
    "mindf = df[[3,5,14]]\n",
    "mindf = mindf[mindf[14] == \"Madrid\"]\n",
    "mindf.head()"
   ]
  },
  {
   "cell_type": "code",
   "execution_count": 24,
   "metadata": {
    "collapsed": true
   },
   "outputs": [],
   "source": [
    "mindf.columns=[\"date\",\"close\",\"City\"]"
   ]
  },
  {
   "cell_type": "code",
   "execution_count": 25,
   "metadata": {
    "collapsed": false
   },
   "outputs": [
    {
     "data": {
      "text/plain": [
       "'[{\"date\":20160101,\"close\":10.6,\"City\":\"Madrid\"},{\"date\":20160102,\"close\":9.1,\"City\":\"Madrid\"},{\"date\":20160103,\"close\":6.8,\"City\":\"Madrid\"},{\"date\":20160104,\"close\":12.7,\"City\":\"Madrid\"},{\"date\":20160105,\"close\":7.9,\"City\":\"Madrid\"},{\"date\":20160106,\"close\":5.7,\"City\":\"Madrid\"},{\"date\":20160107,\"close\":12.8,\"City\":\"Madrid\"},{\"date\":20160108,\"close\":12.2,\"City\":\"Madrid\"},{\"date\":20160109,\"close\":10.3,\"City\":\"Madrid\"},{\"date\":20160110,\"close\":11.1,\"City\":\"Madrid\"},{\"date\":20160111,\"close\":9.9,\"City\":\"Madrid\"},{\"date\":20160112,\"close\":7.0,\"City\":\"Madrid\"},{\"date\":20160113,\"close\":4.1,\"City\":\"Madrid\"},{\"date\":20160114,\"close\":4.7,\"City\":\"Madrid\"},{\"date\":20160115,\"close\":7.0,\"City\":\"Madrid\"},{\"date\":20160116,\"close\":4.6,\"City\":\"Madrid\"},{\"date\":20160117,\"close\":1.6,\"City\":\"Madrid\"},{\"date\":20160118,\"close\":6.5,\"City\":\"Madrid\"},{\"date\":20160119,\"close\":5.0,\"City\":\"Madrid\"},{\"date\":20160120,\"close\":4.8,\"City\":\"Madrid\"},{\"date\":20160121,\"close\":5.8,\"City\":\"Madrid\"},{\"date\":20160122,\"close\":8.3,\"City\":\"Madrid\"},{\"date\":20160123,\"close\":11.3,\"City\":\"Madrid\"},{\"date\":20160124,\"close\":10.2,\"City\":\"Madrid\"},{\"date\":20160125,\"close\":9.6,\"City\":\"Madrid\"},{\"date\":20160126,\"close\":8.9,\"City\":\"Madrid\"},{\"date\":20160127,\"close\":8.4,\"City\":\"Madrid\"},{\"date\":20160128,\"close\":8.1,\"City\":\"Madrid\"},{\"date\":20160129,\"close\":8.2,\"City\":\"Madrid\"},{\"date\":20160130,\"close\":7.8,\"City\":\"Madrid\"},{\"date\":20160131,\"close\":8.6,\"City\":\"Madrid\"},{\"date\":20160201,\"close\":8.8,\"City\":\"Madrid\"},{\"date\":20160202,\"close\":7.2,\"City\":\"Madrid\"},{\"date\":20160203,\"close\":8.8,\"City\":\"Madrid\"},{\"date\":20160204,\"close\":5.8,\"City\":\"Madrid\"},{\"date\":20160205,\"close\":4.3,\"City\":\"Madrid\"},{\"date\":20160206,\"close\":5.7,\"City\":\"Madrid\"},{\"date\":20160207,\"close\":7.9,\"City\":\"Madrid\"},{\"date\":20160208,\"close\":9.3,\"City\":\"Madrid\"},{\"date\":20160209,\"close\":11.3,\"City\":\"Madrid\"},{\"date\":20160210,\"close\":12.4,\"City\":\"Madrid\"},{\"date\":20160211,\"close\":13.4,\"City\":\"Madrid\"},{\"date\":20160212,\"close\":12.2,\"City\":\"Madrid\"},{\"date\":20160213,\"close\":13.6,\"City\":\"Madrid\"},{\"date\":20160214,\"close\":8.4,\"City\":\"Madrid\"},{\"date\":20160215,\"close\":5.4,\"City\":\"Madrid\"},{\"date\":20160216,\"close\":3.8,\"City\":\"Madrid\"},{\"date\":20160217,\"close\":2.4,\"City\":\"Madrid\"},{\"date\":20160218,\"close\":5.6,\"City\":\"Madrid\"},{\"date\":20160219,\"close\":5.2,\"City\":\"Madrid\"},{\"date\":20160220,\"close\":5.3,\"City\":\"Madrid\"},{\"date\":20160221,\"close\":6.6,\"City\":\"Madrid\"},{\"date\":20160222,\"close\":8.3,\"City\":\"Madrid\"},{\"date\":20160223,\"close\":8.3,\"City\":\"Madrid\"},{\"date\":20160224,\"close\":6.1,\"City\":\"Madrid\"},{\"date\":20160225,\"close\":8.8,\"City\":\"Madrid\"},{\"date\":20160226,\"close\":6.4,\"City\":\"Madrid\"},{\"date\":20160227,\"close\":5.7,\"City\":\"Madrid\"},{\"date\":20160228,\"close\":7.2,\"City\":\"Madrid\"},{\"date\":20160229,\"close\":7.9,\"City\":\"Madrid\"},{\"date\":20160301,\"close\":7.6,\"City\":\"Madrid\"},{\"date\":20160302,\"close\":9.3,\"City\":\"Madrid\"},{\"date\":20160303,\"close\":9.2,\"City\":\"Madrid\"},{\"date\":20160304,\"close\":8.3,\"City\":\"Madrid\"},{\"date\":20160305,\"close\":6.8,\"City\":\"Madrid\"},{\"date\":20160306,\"close\":6.6,\"City\":\"Madrid\"},{\"date\":20160307,\"close\":7.4,\"City\":\"Madrid\"},{\"date\":20160308,\"close\":6.9,\"City\":\"Madrid\"},{\"date\":20160309,\"close\":5.3,\"City\":\"Madrid\"},{\"date\":20160311,\"close\":8.1,\"City\":\"Madrid\"},{\"date\":20160312,\"close\":6.4,\"City\":\"Madrid\"},{\"date\":20160313,\"close\":8.0,\"City\":\"Madrid\"},{\"date\":20160314,\"close\":7.2,\"City\":\"Madrid\"},{\"date\":20160315,\"close\":7.2,\"City\":\"Madrid\"},{\"date\":20160316,\"close\":7.6,\"City\":\"Madrid\"},{\"date\":20160317,\"close\":9.2,\"City\":\"Madrid\"},{\"date\":20160318,\"close\":8.4,\"City\":\"Madrid\"},{\"date\":20160319,\"close\":9.8,\"City\":\"Madrid\"},{\"date\":20160320,\"close\":8.3,\"City\":\"Madrid\"},{\"date\":20160321,\"close\":9.1,\"City\":\"Madrid\"},{\"date\":20160322,\"close\":10.0,\"City\":\"Madrid\"},{\"date\":20160323,\"close\":8.4,\"City\":\"Madrid\"},{\"date\":20160324,\"close\":9.9,\"City\":\"Madrid\"},{\"date\":20160325,\"close\":10.2,\"City\":\"Madrid\"},{\"date\":20160326,\"close\":10.3,\"City\":\"Madrid\"},{\"date\":20160327,\"close\":12.1,\"City\":\"Madrid\"},{\"date\":20160328,\"close\":11.1,\"City\":\"Madrid\"},{\"date\":20160329,\"close\":13.6,\"City\":\"Madrid\"},{\"date\":20160330,\"close\":13.9,\"City\":\"Madrid\"},{\"date\":20160331,\"close\":9.2,\"City\":\"Madrid\"},{\"date\":20160401,\"close\":8.2,\"City\":\"Madrid\"},{\"date\":20160402,\"close\":9.3,\"City\":\"Madrid\"},{\"date\":20160403,\"close\":10.8,\"City\":\"Madrid\"},{\"date\":20160404,\"close\":8.3,\"City\":\"Madrid\"},{\"date\":20160405,\"close\":10.9,\"City\":\"Madrid\"},{\"date\":20160406,\"close\":11.9,\"City\":\"Madrid\"},{\"date\":20160407,\"close\":12.3,\"City\":\"Madrid\"},{\"date\":20160408,\"close\":9.4,\"City\":\"Madrid\"},{\"date\":20160409,\"close\":10.9,\"City\":\"Madrid\"},{\"date\":20160410,\"close\":10.4,\"City\":\"Madrid\"},{\"date\":20160411,\"close\":8.9,\"City\":\"Madrid\"}]'"
      ]
     },
     "execution_count": 25,
     "metadata": {},
     "output_type": "execute_result"
    }
   ],
   "source": [
    "mindf.to_json(orient=\"records\")"
   ]
  },
  {
   "cell_type": "code",
   "execution_count": 40,
   "metadata": {
    "collapsed": false
   },
   "outputs": [
    {
     "data": {
      "text/html": [
       "\n",
       "        <iframe\n",
       "            width=\"800\"\n",
       "            height=\"800\"\n",
       "            src=\"tmp/line_chart.html\"\n",
       "            frameborder=\"0\"\n",
       "            allowfullscreen\n",
       "        ></iframe>\n",
       "        "
      ],
      "text/plain": [
       "<IPython.lib.display.IFrame at 0x7f7dae661c10>"
      ]
     },
     "execution_count": 40,
     "metadata": {},
     "output_type": "execute_result"
    }
   ],
   "source": [
    "input= open(\"templates/line_chart.template\")\n",
    "text = input.read()\n",
    "input.close()\n",
    "text=text.replace(\"{data}\",mindf.to_json(orient=\"records\"))\n",
    "text=text.replace(\"{width}\",\"500\")\n",
    "text=text.replace(\"{height}\",\"600\")\n",
    "output = open(\"tmp/line_chart.html\",\"w\")\n",
    "output.write(text)\n",
    "output.close()\n",
    "IFrame(\"tmp/line_chart.html\",800,800)"
   ]
  },
  {
   "cell_type": "code",
   "execution_count": 41,
   "metadata": {
    "collapsed": false
   },
   "outputs": [
    {
     "data": {
      "text/html": [
       "<div>\n",
       "<table border=\"1\" class=\"dataframe\">\n",
       "  <thead>\n",
       "    <tr style=\"text-align: right;\">\n",
       "      <th></th>\n",
       "      <th>3</th>\n",
       "      <th>5</th>\n",
       "      <th>14</th>\n",
       "    </tr>\n",
       "  </thead>\n",
       "  <tbody>\n",
       "    <tr>\n",
       "      <th>109148</th>\n",
       "      <td>20160101</td>\n",
       "      <td>6.7</td>\n",
       "      <td>Paris</td>\n",
       "    </tr>\n",
       "    <tr>\n",
       "      <th>109149</th>\n",
       "      <td>20160102</td>\n",
       "      <td>9.1</td>\n",
       "      <td>Paris</td>\n",
       "    </tr>\n",
       "    <tr>\n",
       "      <th>109150</th>\n",
       "      <td>20160103</td>\n",
       "      <td>7.3</td>\n",
       "      <td>Paris</td>\n",
       "    </tr>\n",
       "    <tr>\n",
       "      <th>109151</th>\n",
       "      <td>20160104</td>\n",
       "      <td>7.4</td>\n",
       "      <td>Paris</td>\n",
       "    </tr>\n",
       "    <tr>\n",
       "      <th>109152</th>\n",
       "      <td>20160105</td>\n",
       "      <td>7.4</td>\n",
       "      <td>Paris</td>\n",
       "    </tr>\n",
       "  </tbody>\n",
       "</table>\n",
       "</div>"
      ],
      "text/plain": [
       "              3    5      14\n",
       "109148  20160101  6.7  Paris\n",
       "109149  20160102  9.1  Paris\n",
       "109150  20160103  7.3  Paris\n",
       "109151  20160104  7.4  Paris\n",
       "109152  20160105  7.4  Paris"
      ]
     },
     "execution_count": 41,
     "metadata": {},
     "output_type": "execute_result"
    }
   ],
   "source": [
    "mindf_par = df[[3,5,14]]\n",
    "mindf_par = mindf_par[mindf_par[14] == \"Paris\"]\n",
    "mindf_par.head()"
   ]
  },
  {
   "cell_type": "code",
   "execution_count": 42,
   "metadata": {
    "collapsed": true
   },
   "outputs": [],
   "source": [
    "mindf_par.columns=[\"date\",\"close\",\"City\"]"
   ]
  },
  {
   "cell_type": "code",
   "execution_count": 43,
   "metadata": {
    "collapsed": false
   },
   "outputs": [
    {
     "data": {
      "text/html": [
       "\n",
       "        <iframe\n",
       "            width=\"800\"\n",
       "            height=\"800\"\n",
       "            src=\"tmp/line_chart_paris.html\"\n",
       "            frameborder=\"0\"\n",
       "            allowfullscreen\n",
       "        ></iframe>\n",
       "        "
      ],
      "text/plain": [
       "<IPython.lib.display.IFrame at 0x7f7db0bce950>"
      ]
     },
     "execution_count": 43,
     "metadata": {},
     "output_type": "execute_result"
    }
   ],
   "source": [
    "input= open(\"templates/line_chart.template\")\n",
    "text = input.read()\n",
    "input.close()\n",
    "text=text.replace(\"{data}\",mindf_par.to_json(orient=\"records\"))\n",
    "text=text.replace(\"{width}\",\"500\")\n",
    "text=text.replace(\"{height}\",\"600\")\n",
    "output = open(\"tmp/line_chart_paris.html\",\"w\")\n",
    "output.write(text)\n",
    "output.close()\n",
    "IFrame(\"tmp/line_chart_paris.html\",800,800)"
   ]
  },
  {
   "cell_type": "code",
   "execution_count": 56,
   "metadata": {
    "collapsed": false
   },
   "outputs": [
    {
     "name": "stdout",
     "output_type": "stream",
     "text": [
      "Overwriting templates/bootExample.html\n"
     ]
    }
   ],
   "source": [
    "%%writefile templates/bootExample.html\n",
    "<htlml>\n",
    "    <head>\n",
    "        <link href=\"https://maxcdn.bootstrapcdn.com/bootstrap/3.3.6/css/bootstrap.min.css\" rel=\"stylesheet\" integrity=\"sha384-1q8mTJOASx8j1Au+a5WDVnPi2lkFfwwEAa8hDDdjZlpLegxhjVME1fgjWPGmkzs7\" crossorigin=\"anonymous\">\n",
    "    </head>\n",
    "    <body>\n",
    "        <div class=\"container\">\n",
    "            <div class=\"row\">\n",
    "                <div class=\"col-md-6\">Hola</div>\n",
    "                <div class=\"col-md-6\">Mundo</div>\n",
    "            </div>\n",
    "        </div>\n",
    "    </body>\n",
    "</html>"
   ]
  },
  {
   "cell_type": "code",
   "execution_count": 58,
   "metadata": {
    "collapsed": false,
    "scrolled": true
   },
   "outputs": [
    {
     "data": {
      "text/html": [
       "\n",
       "        <iframe\n",
       "            width=\"600\"\n",
       "            height=\"600\"\n",
       "            src=\"templates/bootExample.html\"\n",
       "            frameborder=\"0\"\n",
       "            allowfullscreen\n",
       "        ></iframe>\n",
       "        "
      ],
      "text/plain": [
       "<IPython.lib.display.IFrame at 0x7f7dae5f74d0>"
      ]
     },
     "execution_count": 58,
     "metadata": {},
     "output_type": "execute_result"
    }
   ],
   "source": [
    "IFrame(\"templates/bootExample.html\",600,600)"
   ]
  },
  {
   "cell_type": "code",
   "execution_count": 65,
   "metadata": {
    "collapsed": false
   },
   "outputs": [
    {
     "data": {
      "text/html": [
       "\n",
       "        <iframe\n",
       "            width=\"800\"\n",
       "            height=\"1200\"\n",
       "            src=\"tmp/dash1.html\"\n",
       "            frameborder=\"0\"\n",
       "            allowfullscreen\n",
       "        ></iframe>\n",
       "        "
      ],
      "text/plain": [
       "<IPython.lib.display.IFrame at 0x7f7dae5f9a90>"
      ]
     },
     "execution_count": 65,
     "metadata": {},
     "output_type": "execute_result"
    }
   ],
   "source": [
    "input= open(\"templates/dashboard.template\")\n",
    "text = input.read()\n",
    "input.close()\n",
    "text=text.replace(\"{data}\",mindf.to_json(orient=\"records\"))\n",
    "text=text.replace(\"{data2}\",mindf_par.to_json(orient=\"records\"))\n",
    "text=text.replace(\"{width}\",\"500\")\n",
    "text=text.replace(\"{height}\",\"600\")\n",
    "output = open(\"tmp/dash1.html\",\"w\")\n",
    "output.write(text)\n",
    "output.close()\n",
    "IFrame(\"tmp/dash1.html\",800,1200)"
   ]
  },
  {
   "cell_type": "code",
   "execution_count": 67,
   "metadata": {
    "collapsed": false
   },
   "outputs": [
    {
     "name": "stdout",
     "output_type": "stream",
     "text": [
      "Overwriting templates/basic_json_d3.html\n"
     ]
    }
   ],
   "source": [
    "%%writefile templates/basic_json_d3.html\n",
    "<html>\n",
    "<head>\n",
    "</head>\n",
    "<body>\n",
    "<script src=\"//d3js.org/d3.v3.min.js\"></script>\n",
    "<script>\n",
    "    var process = function(error,data){\n",
    "        console.log(data)\n",
    "    }\n",
    "    \n",
    "    d3.json(\"http://localhost:8080/api/v1/temp?code=MAD\",process)\n",
    "</script>\n",
    "</body>\n",
    "</html>"
   ]
  },
  {
   "cell_type": "code",
   "execution_count": 72,
   "metadata": {
    "collapsed": false
   },
   "outputs": [
    {
     "data": {
      "text/html": [
       "\n",
       "        <iframe\n",
       "            width=\"600\"\n",
       "            height=\"600\"\n",
       "            src=\"templates/basic_json_d3.html\"\n",
       "            frameborder=\"0\"\n",
       "            allowfullscreen\n",
       "        ></iframe>\n",
       "        "
      ],
      "text/plain": [
       "<IPython.lib.display.IFrame at 0x7f7dae5f7dd0>"
      ]
     },
     "execution_count": 72,
     "metadata": {},
     "output_type": "execute_result"
    }
   ],
   "source": [
    "IFrame(\"templates/basic_json_d3.html\", 600,600)"
   ]
  }
 ],
 "metadata": {
  "kernelspec": {
   "display_name": "Python 2",
   "language": "python",
   "name": "python2"
  },
  "language_info": {
   "codemirror_mode": {
    "name": "ipython",
    "version": 2
   },
   "file_extension": ".py",
   "mimetype": "text/x-python",
   "name": "python",
   "nbconvert_exporter": "python",
   "pygments_lexer": "ipython2",
   "version": "2.7.11"
  }
 },
 "nbformat": 4,
 "nbformat_minor": 0
}
